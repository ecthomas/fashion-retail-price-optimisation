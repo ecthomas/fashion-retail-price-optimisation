{
 "cells": [
  {
   "cell_type": "code",
   "execution_count": 1,
   "metadata": {},
   "outputs": [],
   "source": [
    "import pandas as pd\n",
    "import seaborn as sns\n",
    "import matplotlib.pyplot as plt\n",
    "import numpy as np"
   ]
  },
  {
   "cell_type": "markdown",
   "metadata": {},
   "source": [
    "### load and merge data"
   ]
  },
  {
   "cell_type": "code",
   "execution_count": 2,
   "metadata": {},
   "outputs": [],
   "source": [
    "#data_path = \"../data/raw\" \n",
    "prod_data = pd.read_excel(\"../data/raw/Product_data.xlsx\", sheet_name=\"Data\")\n",
    "trans_data = pd.read_excel(\"../data/raw/Transaction_data.xlsx\", sheet_name=\"Data\")"
   ]
  },
  {
   "cell_type": "code",
   "execution_count": 3,
   "metadata": {},
   "outputs": [],
   "source": [
    "def merge_product_transactions(product_data=prod_data, transaction_data=trans_data):\n",
    "    '''\n",
    "    Returns a merged dataframe of product data and transaction data.\n",
    "        Parameters:\n",
    "            product_data (df): A dataframe containing product information\n",
    "            transaction_data (df): A dataframe containing transaction information.\n",
    "        Returns:\n",
    "            merged_data (df): A dataframe containing prodcut and transaction data, merged on sku.\n",
    "    '''\n",
    "    merged_data = pd.merge(prod_data, trans_data, on=\"sku\", how=\"right\")\n",
    "    return merged_data"
   ]
  },
  {
   "cell_type": "code",
   "execution_count": 4,
   "metadata": {},
   "outputs": [],
   "source": [
    "merged_data = merge_product_transactions(product_data=prod_data, transaction_data=trans_data)"
   ]
  },
  {
   "cell_type": "code",
   "execution_count": null,
   "metadata": {},
   "outputs": [],
   "source": [
    "merged_data.columns"
   ]
  },
  {
   "cell_type": "markdown",
   "metadata": {},
   "source": [
    "### remove characters from the p_id_x / p_id_y"
   ]
  },
  {
   "cell_type": "code",
   "execution_count": 6,
   "metadata": {},
   "outputs": [],
   "source": [
    "def fix_pid_cols(df):\n",
    "    '''\n",
    "    Removes extra characters from product ID (p_id) column.\n",
    "        Parameters:\n",
    "            df (df): Dataframe from which to remove extra characters from p_id column.\n",
    "        Returns:\n",
    "            df (df): A dataframe with extra characters removed from the product ID (p_id) column.\n",
    "    '''\n",
    "    merged_data['p_id'] = merged_data['p_id_y'].astype('str').str.replace(r'v\\d', '')\n",
    "    return df"
   ]
  },
  {
   "cell_type": "code",
   "execution_count": null,
   "metadata": {},
   "outputs": [],
   "source": [
    "merged_data = fix_pid_cols(merged_data)"
   ]
  },
  {
   "cell_type": "code",
   "execution_count": null,
   "metadata": {},
   "outputs": [],
   "source": [
    "merged_data['p_id'].isna().value_counts()\n"
   ]
  },
  {
   "cell_type": "markdown",
   "metadata": {},
   "source": [
    "### which sub-department has the most transactions?"
   ]
  },
  {
   "cell_type": "code",
   "execution_count": null,
   "metadata": {},
   "outputs": [],
   "source": [
    "merged_data.groupby(['sub_department_desc']).size().sort_values(ascending=False)"
   ]
  },
  {
   "cell_type": "code",
   "execution_count": null,
   "metadata": {},
   "outputs": [],
   "source": [
    "# how many product types exist within knits and dresses?\n",
    "\n",
    "print('unique products in knits (p_id): ' + str(merged_data[merged_data['sub_department_desc'] == 'W L/S KNITS']['p_id'].nunique()))\n",
    "print('unique products in knits (p_id_x): ' + str(merged_data[merged_data['sub_department_desc'] == 'W L/S KNITS']['p_id_x'].nunique()))\n",
    "print('unique products in knits (p_id_y): ' + str(merged_data[merged_data['sub_department_desc'] == 'W L/S KNITS']['p_id_y'].nunique()))\n",
    "print('unique products in knits (style): ' + str(merged_data[merged_data['sub_department_desc'] == 'W L/S KNITS']['style'].nunique()))\n",
    "\n",
    "print('unique products in dresses (p_id): ' + str(merged_data[merged_data['sub_department_desc'] == 'DRESSES']['p_id'].nunique()))\n",
    "print('unique products in dresses (p_id_x): ' + str(merged_data[merged_data['sub_department_desc'] == 'DRESSES']['p_id_x'].nunique()))\n",
    "print('unique products in dresses (p_id_y): ' + str(merged_data[merged_data['sub_department_desc'] == 'DRESSES']['p_id_y'].nunique()))\n",
    "print('unique products in dresses (style): ' + str(merged_data[merged_data['sub_department_desc'] == 'DRESSES']['style'].nunique()))"
   ]
  },
  {
   "cell_type": "code",
   "execution_count": 9,
   "metadata": {},
   "outputs": [
    {
     "data": {
      "text/html": [
       "<div>\n",
       "<style scoped>\n",
       "    .dataframe tbody tr th:only-of-type {\n",
       "        vertical-align: middle;\n",
       "    }\n",
       "\n",
       "    .dataframe tbody tr th {\n",
       "        vertical-align: top;\n",
       "    }\n",
       "\n",
       "    .dataframe thead th {\n",
       "        text-align: right;\n",
       "    }\n",
       "</style>\n",
       "<table border=\"1\" class=\"dataframe\">\n",
       "  <thead>\n",
       "    <tr style=\"text-align: right;\">\n",
       "      <th></th>\n",
       "      <th>p_id</th>\n",
       "      <th>p_id_x</th>\n",
       "      <th>p_id_y</th>\n",
       "      <th>style</th>\n",
       "    </tr>\n",
       "  </thead>\n",
       "  <tbody>\n",
       "    <tr>\n",
       "      <th>363</th>\n",
       "      <td>578087</td>\n",
       "      <td>NaN</td>\n",
       "      <td>578087v1</td>\n",
       "      <td>SS PLTD DRSS NO LOGO</td>\n",
       "    </tr>\n",
       "    <tr>\n",
       "      <th>1835</th>\n",
       "      <td>578087</td>\n",
       "      <td>NaN</td>\n",
       "      <td>578087</td>\n",
       "      <td>SS PLTD DRSS NO LOGO</td>\n",
       "    </tr>\n",
       "    <tr>\n",
       "      <th>94</th>\n",
       "      <td>592442</td>\n",
       "      <td>592442.0</td>\n",
       "      <td>592442</td>\n",
       "      <td>TARTAN DRESS-DR-WVN</td>\n",
       "    </tr>\n",
       "    <tr>\n",
       "      <th>5053</th>\n",
       "      <td>601372</td>\n",
       "      <td>601372.0</td>\n",
       "      <td>601372</td>\n",
       "      <td>TIE MADISON</td>\n",
       "    </tr>\n",
       "    <tr>\n",
       "      <th>5378</th>\n",
       "      <td>592289</td>\n",
       "      <td>592289.0</td>\n",
       "      <td>592289</td>\n",
       "      <td>UNIVERSITY TIE</td>\n",
       "    </tr>\n",
       "    <tr>\n",
       "      <th>70</th>\n",
       "      <td>563814</td>\n",
       "      <td>563814.0</td>\n",
       "      <td>563814</td>\n",
       "      <td>VARICK SLIM FIT JEAN 32\"</td>\n",
       "    </tr>\n",
       "    <tr>\n",
       "      <th>617</th>\n",
       "      <td>521130</td>\n",
       "      <td>521130.0</td>\n",
       "      <td>521130</td>\n",
       "      <td>WHITE AND BLUE SURFBOARD</td>\n",
       "    </tr>\n",
       "    <tr>\n",
       "      <th>111</th>\n",
       "      <td>586212</td>\n",
       "      <td>586212.0</td>\n",
       "      <td>586212</td>\n",
       "      <td>WHITE CUSTOM REGENT FC NK</td>\n",
       "    </tr>\n",
       "    <tr>\n",
       "      <th>1188</th>\n",
       "      <td>597049</td>\n",
       "      <td>597049.0</td>\n",
       "      <td>597049</td>\n",
       "      <td>WILLINGTON VEST</td>\n",
       "    </tr>\n",
       "    <tr>\n",
       "      <th>186</th>\n",
       "      <td>601329</td>\n",
       "      <td>601329.0</td>\n",
       "      <td>601329</td>\n",
       "      <td>WINONA TOP KNT</td>\n",
       "    </tr>\n",
       "    <tr>\n",
       "      <th>1731</th>\n",
       "      <td>532721</td>\n",
       "      <td>532721.0</td>\n",
       "      <td>532721</td>\n",
       "      <td>WOOL FRINGE WRAP</td>\n",
       "    </tr>\n",
       "    <tr>\n",
       "      <th>1425</th>\n",
       "      <td>543513</td>\n",
       "      <td>543513.0</td>\n",
       "      <td>543513</td>\n",
       "      <td>WOOL JACKET</td>\n",
       "    </tr>\n",
       "    <tr>\n",
       "      <th>15066</th>\n",
       "      <td>605924</td>\n",
       "      <td>605924.0</td>\n",
       "      <td>605924</td>\n",
       "      <td>WRAP DRESS-DR-WVN</td>\n",
       "    </tr>\n",
       "    <tr>\n",
       "      <th>7</th>\n",
       "      <td>532702</td>\n",
       "      <td>532702.0</td>\n",
       "      <td>532702</td>\n",
       "      <td>WRISTLET</td>\n",
       "    </tr>\n",
       "    <tr>\n",
       "      <th>1954</th>\n",
       "      <td>605926</td>\n",
       "      <td>605926.0</td>\n",
       "      <td>605926</td>\n",
       "      <td>WWII CIGARETTE LIGHTER</td>\n",
       "    </tr>\n",
       "    <tr>\n",
       "      <th>2122</th>\n",
       "      <td>601363</td>\n",
       "      <td>601363.0</td>\n",
       "      <td>601363</td>\n",
       "      <td>XW LAUNCH JACKET</td>\n",
       "    </tr>\n",
       "    <tr>\n",
       "      <th>3108</th>\n",
       "      <td>601409</td>\n",
       "      <td>601409.0</td>\n",
       "      <td>601409</td>\n",
       "      <td>XW RLX INTAKE JACKET</td>\n",
       "    </tr>\n",
       "    <tr>\n",
       "      <th>10505</th>\n",
       "      <td>592312</td>\n",
       "      <td>NaN</td>\n",
       "      <td>592312</td>\n",
       "      <td>YANESSA SWEATER</td>\n",
       "    </tr>\n",
       "    <tr>\n",
       "      <th>16218</th>\n",
       "      <td>584257</td>\n",
       "      <td>NaN</td>\n",
       "      <td>584257</td>\n",
       "      <td>YELLOW POT MEDIUM</td>\n",
       "    </tr>\n",
       "    <tr>\n",
       "      <th>1736</th>\n",
       "      <td>597050</td>\n",
       "      <td>597050.0</td>\n",
       "      <td>597050</td>\n",
       "      <td>YOSEMITE WEB</td>\n",
       "    </tr>\n",
       "    <tr>\n",
       "      <th>1033</th>\n",
       "      <td>587133</td>\n",
       "      <td>587133.0</td>\n",
       "      <td>587133</td>\n",
       "      <td>ZIP POUCH-POUCH-SMOOTH LE</td>\n",
       "    </tr>\n",
       "    <tr>\n",
       "      <th>6277</th>\n",
       "      <td>532675</td>\n",
       "      <td>532675.0</td>\n",
       "      <td>532675v1</td>\n",
       "      <td>ZIP WALLET</td>\n",
       "    </tr>\n",
       "    <tr>\n",
       "      <th>4</th>\n",
       "      <td>573497</td>\n",
       "      <td>573497.0</td>\n",
       "      <td>573497</td>\n",
       "      <td>ZIP WALLET</td>\n",
       "    </tr>\n",
       "    <tr>\n",
       "      <th>69</th>\n",
       "      <td>563859</td>\n",
       "      <td>563859.0</td>\n",
       "      <td>563859</td>\n",
       "      <td>ZP CONT WLT-CONTINENTAL-P</td>\n",
       "    </tr>\n",
       "    <tr>\n",
       "      <th>13649</th>\n",
       "      <td>563859</td>\n",
       "      <td>563859.0</td>\n",
       "      <td>563859v2</td>\n",
       "      <td>ZP CONT WLT-CONTINENTAL-P</td>\n",
       "    </tr>\n",
       "    <tr>\n",
       "      <th>40</th>\n",
       "      <td>581857</td>\n",
       "      <td>NaN</td>\n",
       "      <td>581857</td>\n",
       "      <td>rivingt R SCN BZ/RM</td>\n",
       "    </tr>\n",
       "  </tbody>\n",
       "</table>\n",
       "</div>"
      ],
      "text/plain": [
       "         p_id    p_id_x    p_id_y                      style\n",
       "363    578087       NaN  578087v1       SS PLTD DRSS NO LOGO\n",
       "1835   578087       NaN    578087       SS PLTD DRSS NO LOGO\n",
       "94     592442  592442.0    592442        TARTAN DRESS-DR-WVN\n",
       "5053   601372  601372.0    601372                TIE MADISON\n",
       "5378   592289  592289.0    592289             UNIVERSITY TIE\n",
       "70     563814  563814.0    563814   VARICK SLIM FIT JEAN 32\"\n",
       "617    521130  521130.0    521130   WHITE AND BLUE SURFBOARD\n",
       "111    586212  586212.0    586212  WHITE CUSTOM REGENT FC NK\n",
       "1188   597049  597049.0    597049            WILLINGTON VEST\n",
       "186    601329  601329.0    601329             WINONA TOP KNT\n",
       "1731   532721  532721.0    532721           WOOL FRINGE WRAP\n",
       "1425   543513  543513.0    543513                WOOL JACKET\n",
       "15066  605924  605924.0    605924          WRAP DRESS-DR-WVN\n",
       "7      532702  532702.0    532702                   WRISTLET\n",
       "1954   605926  605926.0    605926     WWII CIGARETTE LIGHTER\n",
       "2122   601363  601363.0    601363           XW LAUNCH JACKET\n",
       "3108   601409  601409.0    601409       XW RLX INTAKE JACKET\n",
       "10505  592312       NaN    592312            YANESSA SWEATER\n",
       "16218  584257       NaN    584257          YELLOW POT MEDIUM\n",
       "1736   597050  597050.0    597050               YOSEMITE WEB\n",
       "1033   587133  587133.0    587133  ZIP POUCH-POUCH-SMOOTH LE\n",
       "6277   532675  532675.0  532675v1                 ZIP WALLET\n",
       "4      573497  573497.0    573497                 ZIP WALLET\n",
       "69     563859  563859.0    563859  ZP CONT WLT-CONTINENTAL-P\n",
       "13649  563859  563859.0  563859v2  ZP CONT WLT-CONTINENTAL-P\n",
       "40     581857       NaN    581857        rivingt R SCN BZ/RM"
      ]
     },
     "execution_count": 9,
     "metadata": {},
     "output_type": "execute_result"
    }
   ],
   "source": [
    "merged_data[merged_data['sub_department_desc'] == 'W L/S KNITS'][['p_id', 'p_id_x', 'p_id_y', 'style']].drop_duplicates().sort_values('style')"
   ]
  },
  {
   "cell_type": "markdown",
   "metadata": {},
   "source": [
    "### simplify colours"
   ]
  },
  {
   "cell_type": "code",
   "execution_count": 10,
   "metadata": {},
   "outputs": [],
   "source": [
    "def simplify_colours(df):\n",
    "    '''\n",
    "    Simplifies colours present in the 'color' column of dataframe.\n",
    "        Parameters:\n",
    "            df (df): Dataframe in which to simplify colours.\n",
    "        Returns: \n",
    "            df (df): A dataframe containing an extra column 'color_simple' that contains simplified colours.\n",
    "    '''\n",
    "    df['color_simple'] = df['color']\n",
    "\n",
    "    contains_colour = ['Windsor Heather',  'Zoe Wash', 'Woodbury Strp Wh/Hydran/G',\n",
    "       'Woodburn Patchwork', 'Wooster/Alley', 'Woodley Plaid',\n",
    "       'York Pld/Oxford Pld Gld', 'Watercolor Print 1', 'Vintage Sailboat',\n",
    "       'Wiggins', 'Winona Wash', 'Vintage Port Multi', 'Williams Wash'\n",
    "       ,'Yucatan','Rose','Gold','Wine','Navy','Royal','Wisteria','Whiskey','Coral',\n",
    "       'Lavender','Tan','Khaki','Camo','Taupe','Wildflower','Floral','Hibiscus','Silver',\n",
    "       'Pepper','Vicuna','Washed Forest','Mauve','Camel','Light Indigo','Whyskey','Windsor Heather Multi Str',\n",
    "       'Woodbridge Olive','Yuca Tan','Yanda Wash','White','Zebra','Blue','Cream','Navy','Grey','Orange',\n",
    "       'Green','Red','Rose','Mauve','Purple','Black','Pink','Brown','Yellow']\n",
    "\n",
    "    replace_colour = ['Other','Other','Other','Other','Other','Other','Other','Other','Other','Other','Other',\n",
    "        'Other','Other','Other','Pink','Yellow','Purple','Blue','Blue','Purple','Brown','Red','Purple','Brown','Green',\n",
    "        'Green','Brown','Floral','Floral','Pink','Grey','Grey','Brown','Green','Purple','Brown','Blue','Brown','Windsor Heather',\n",
    "        'Green','Yucatan','White','White','Zebra','Blue','Cream','Navy','Grey','Orange','Green','Red','Rose','Mauve','Purple','Black',\n",
    "        'Pink','Brown','Yellow']\n",
    "        \n",
    "    for ii in range(len(df['color_simple'])):\n",
    "        for jj in range(len(contains_colour)):\n",
    "            if contains_colour[jj] in df['color_simple'][ii]: \n",
    "                df['color_simple'][ii] = replace_colour[jj]\n",
    "                break\n",
    "    return df"
   ]
  },
  {
   "cell_type": "code",
   "execution_count": null,
   "metadata": {},
   "outputs": [],
   "source": [
    "merged_data = simplify_colours(merged_data)"
   ]
  },
  {
   "cell_type": "markdown",
   "metadata": {},
   "source": [
    "### select columns of interest, sub-category of interest and positive transactions"
   ]
  },
  {
   "cell_type": "code",
   "execution_count": 21,
   "metadata": {},
   "outputs": [],
   "source": [
    "def select_columns_category(df):\n",
    "    '''\n",
    "    Creates a new dataframe that contains columns to take forward to the next step, rows matching the 'W L/S KNITS' subdepartment, \n",
    "    and rows deonoting positive transactions.\n",
    "        Parameters:\n",
    "            df (df): Dataframe from which to extract columns and rows.\n",
    "        Returns:\n",
    "            df (df): Dataframe containing columns and rows of interest.\n",
    "\n",
    "    '''\n",
    "    df = df[['p_id', 'transaction_date', 'sub_department_desc', 'label_desc', 'color_simple', 'quantity', 'amount']]\n",
    "    df = df[df['sub_department_desc'] == 'W L/S KNITS']\n",
    "    df = df[df['amount'] > 0]\n",
    "    return(df)"
   ]
  },
  {
   "cell_type": "code",
   "execution_count": 22,
   "metadata": {},
   "outputs": [],
   "source": [
    "merged_data_pruned_sd_knits = select_columns_category(merged_data)"
   ]
  },
  {
   "cell_type": "code",
   "execution_count": null,
   "metadata": {},
   "outputs": [],
   "source": [
    "merged_data_pruned_sd_knits.shape"
   ]
  },
  {
   "cell_type": "markdown",
   "metadata": {},
   "source": [
    "### write data to interim folder"
   ]
  },
  {
   "cell_type": "code",
   "execution_count": 20,
   "metadata": {},
   "outputs": [],
   "source": [
    "merged_data_pruned_sd_knits.to_csv(\"../data/interim/transactions_sd_knits.csv\", index=False)"
   ]
  }
 ],
 "metadata": {
  "interpreter": {
   "hash": "57727d540d2cdea30e42da3b647feb3a70b95224e671f1550702dd816d97d117"
  },
  "kernelspec": {
   "display_name": "Python 3.7.10 ('testenv': venv)",
   "language": "python",
   "name": "python3"
  },
  "language_info": {
   "codemirror_mode": {
    "name": "ipython",
    "version": 3
   },
   "file_extension": ".py",
   "mimetype": "text/x-python",
   "name": "python",
   "nbconvert_exporter": "python",
   "pygments_lexer": "ipython3",
   "version": "3.7.10"
  },
  "orig_nbformat": 4
 },
 "nbformat": 4,
 "nbformat_minor": 2
}
